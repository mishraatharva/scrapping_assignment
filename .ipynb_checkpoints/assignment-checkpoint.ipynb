{
 "cells": [
  {
   "cell_type": "code",
   "execution_count": 2,
   "id": "e9e3ce09",
   "metadata": {},
   "outputs": [
    {
     "name": "stdout",
     "output_type": "stream",
     "text": [
      "[('4', 'Worth the money'), ('5', 'Classy product'), ('5', 'Wonderful'), ('5', 'Great product'), ('4', 'Really Nice'), ('5', 'Just wow!'), ('5', 'Highly recommended.'), ('5', 'Brilliant'), ('5', 'Terrific')]\n"
     ]
    }
   ],
   "source": [
    "import requests\n",
    "import os\n",
    "from bs4 import BeautifulSoup\n",
    "from urllib.request import urlopen\n",
    "import openpyxl as xl\n",
    "from openpyxl import Workbook\n",
    "\n",
    "location = 'images/'\n",
    "if not os.path.exists(location):\n",
    "    os.makedirs(location)\n",
    "\n",
    "import os\n",
    "import requests\n",
    "from bs4 import BeautifulSoup\n",
    "from openpyxl import Workbook, load_workbook\n",
    "\n",
    "file = \"user_review.xlsx\"\n",
    "def save_to_excel(rating, review_rating):\n",
    "    if not os.path.exists(file):\n",
    "        workbook = Workbook()\n",
    "        workbook.save(file)\n",
    "\n",
    "    wBook = load_workbook(file)\n",
    "    sheet = wBook.active\n",
    "    data = [rating, review_rating]\n",
    "    sheet.append(data)\n",
    "    wBook.save(file)\n",
    "\n",
    "def perform_scraping(link):\n",
    "    response = requests.get(link)\n",
    "    soup = BeautifulSoup(response.content, \"html.parser\")\n",
    "    all_div = soup.find_all(\"div\", class_=\"_1AtVbE col-12-12\")\n",
    "    del all_div[0]\n",
    "    all_reviews = []\n",
    "    for review in range(0, len(all_div)):\n",
    "        rating_elem = all_div[review].find(\"div\", class_=\"_3LWZlK _1BLPMq\")\n",
    "        review_title_elem = all_div[review].find(\"p\", class_=\"_2-N8zT\")\n",
    "\n",
    "        if rating_elem is not None and review_title_elem is not None:\n",
    "            rating = rating_elem.text\n",
    "            review_title = review_title_elem.text\n",
    "            save_to_excel(rating, review_title)\n",
    "            all_reviews.append((rating, review_title))\n",
    "    return all_reviews\n",
    "\n",
    "all_reviews = []\n",
    "for page_number in range(1, 3):\n",
    "    link = f\"https://www.flipkart.com/prowl-tiger-shroff-push-up-board-upper-body-workout-push-up-bar/product-reviews/itm0487671f4df34?pid=BAAGM82GUHTQ3KFZ&lid=LSTBAAGM82GUHTQ3KFZVCWDQ9&marketplace=FLIPKART&page={page_number}\"\n",
    "    all_reviews.extend(perform_scraping(link))\n",
    "\n",
    "print(all_reviews)"
   ]
  },
  {
   "cell_type": "code",
   "execution_count": null,
   "id": "7a305f59",
   "metadata": {},
   "outputs": [],
   "source": []
  }
 ],
 "metadata": {
  "kernelspec": {
   "display_name": "Python 3 (ipykernel)",
   "language": "python",
   "name": "python3"
  },
  "language_info": {
   "codemirror_mode": {
    "name": "ipython",
    "version": 3
   },
   "file_extension": ".py",
   "mimetype": "text/x-python",
   "name": "python",
   "nbconvert_exporter": "python",
   "pygments_lexer": "ipython3",
   "version": "3.10.9"
  },
  "varInspector": {
   "cols": {
    "lenName": 16,
    "lenType": 16,
    "lenVar": 40
   },
   "kernels_config": {
    "python": {
     "delete_cmd_postfix": "",
     "delete_cmd_prefix": "del ",
     "library": "var_list.py",
     "varRefreshCmd": "print(var_dic_list())"
    },
    "r": {
     "delete_cmd_postfix": ") ",
     "delete_cmd_prefix": "rm(",
     "library": "var_list.r",
     "varRefreshCmd": "cat(var_dic_list()) "
    }
   },
   "types_to_exclude": [
    "module",
    "function",
    "builtin_function_or_method",
    "instance",
    "_Feature"
   ],
   "window_display": false
  }
 },
 "nbformat": 4,
 "nbformat_minor": 5
}
